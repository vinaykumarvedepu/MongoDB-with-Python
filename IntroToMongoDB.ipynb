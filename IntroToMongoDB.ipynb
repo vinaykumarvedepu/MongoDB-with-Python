{
 "cells": [
  {
   "cell_type": "code",
   "execution_count": 1,
   "metadata": {},
   "outputs": [],
   "source": [
    "import pymongo"
   ]
  },
  {
   "cell_type": "markdown",
   "metadata": {},
   "source": [
    "## Connecting to the mongoDB instances locally"
   ]
  },
  {
   "cell_type": "code",
   "execution_count": 2,
   "metadata": {},
   "outputs": [],
   "source": [
    "#This package enables us to connect to the database\n",
    "dbConn = pymongo.MongoClient(\"mongodb://127.0.0.1:27017/\")#Connecting to the locally running mongoDb instances"
   ]
  },
  {
   "cell_type": "markdown",
   "metadata": {},
   "source": [
    "## Creating the new Database"
   ]
  },
  {
   "cell_type": "code",
   "execution_count": 3,
   "metadata": {},
   "outputs": [],
   "source": [
    "dbname = 'demoDB' #Name of the database\n",
    "db = dbConn[dbname] #this creates a new database if there is no existing database with the mentioned name"
   ]
  },
  {
   "cell_type": "code",
   "execution_count": 19,
   "metadata": {},
   "outputs": [
    {
     "data": {
      "text/plain": [
       "['admin', 'config', 'demoDB', 'local']"
      ]
     },
     "execution_count": 19,
     "metadata": {},
     "output_type": "execute_result"
    }
   ],
   "source": [
    "#Displays the list of databases\n",
    "dbConn.list_database_names()"
   ]
  },
  {
   "cell_type": "markdown",
   "metadata": {},
   "source": [
    "## Check if there is any particular database is present or not"
   ]
  },
  {
   "cell_type": "code",
   "execution_count": 17,
   "metadata": {},
   "outputs": [
    {
     "name": "stdout",
     "output_type": "stream",
     "text": [
      "The database is present\n"
     ]
    }
   ],
   "source": [
    "#check if database is existing in mongoDB\n",
    "dblist= dbConn.list_database_names()\n",
    "db_name = 'demoDB'\n",
    "if db_name in dblist:\n",
    "    print(\"The database is present\")\n",
    "else:\n",
    "    print(\"There is no database with name:\",db_name)\n",
    "        "
   ]
  },
  {
   "cell_type": "markdown",
   "metadata": {},
   "source": [
    "## Creating new Collection"
   ]
  },
  {
   "cell_type": "code",
   "execution_count": 23,
   "metadata": {},
   "outputs": [],
   "source": [
    "#Connecting to a collection -------- Collections are analogous to tables\n",
    "collection_name = 'new_demo'\n",
    "collection = db[collection_name] #Connecting to connection itself in the database"
   ]
  },
  {
   "cell_type": "code",
   "execution_count": 24,
   "metadata": {},
   "outputs": [
    {
     "name": "stdout",
     "output_type": "stream",
     "text": [
      "The collection is available\n"
     ]
    }
   ],
   "source": [
    "#Checking if a collection is present or not\n",
    "if collection_name in db.list_collection_names():\n",
    "    print(\"The collection is available\")\n",
    "else:\n",
    "    print(\"There is no collection with the name:\",collection_name)"
   ]
  },
  {
   "cell_type": "markdown",
   "metadata": {},
   "source": [
    "# MONGODB Opertaions\n",
    "\n",
    "## Inserting a single row"
   ]
  },
  {
   "cell_type": "code",
   "execution_count": 29,
   "metadata": {},
   "outputs": [],
   "source": [
    "# inserting row into the collection\n",
    "my_row = {'Serial No': '21',\n",
    " 'GRE Score': '307',\n",
    " 'TOEFL Score': '108',\n",
    " 'University Rating': '4',\n",
    " 'SOP': '4.5',\n",
    " 'LOR': '4.5',\n",
    " 'CGPA': '9.60',\n",
    " 'Research': '1',\n",
    " 'Chance of Admit': '0.92'} # creating key value pairs for inserting into the DB"
   ]
  },
  {
   "cell_type": "code",
   "execution_count": 30,
   "metadata": {},
   "outputs": [],
   "source": [
    "x = collection.insert_one(my_row) #Inserting a record into the collection"
   ]
  },
  {
   "cell_type": "code",
   "execution_count": 34,
   "metadata": {},
   "outputs": [
    {
     "data": {
      "text/plain": [
       "ObjectId('5ead59824c49558dd5a295e5')"
      ]
     },
     "execution_count": 34,
     "metadata": {},
     "output_type": "execute_result"
    }
   ],
   "source": [
    "x.inserted_id #Unique ID for the insert"
   ]
  },
  {
   "cell_type": "markdown",
   "metadata": {},
   "source": [
    "## Inserting multiple rows "
   ]
  },
  {
   "cell_type": "code",
   "execution_count": 35,
   "metadata": {},
   "outputs": [],
   "source": [
    "# inserting multiple rows once\n",
    "my_rows = [\n",
    "{'Serial No': '9997',\n",
    " 'GRE Score': '337',\n",
    " 'TOEFL Score': '118',\n",
    " 'University Rating': '4',\n",
    " 'SOP': '4.5',\n",
    " 'LOR': '4.5',\n",
    " 'CGPA': '9.65',\n",
    " 'Research': '1',\n",
    " 'Chance of Admit': '0.92'},\n",
    "  {\n",
    "    'Serial No': '9996',\n",
    " 'GRE Score': '336',\n",
    " 'TOEFL Score': '118',\n",
    " 'University Rating': '4',\n",
    " 'SOP': '4.5',\n",
    " 'LOR': '4.5',\n",
    " 'CGPA': '9.6',\n",
    " 'Research': '0',\n",
    " 'Chance of Admit': '0.92'},\n",
    "  {\n",
    "    'Serial No': '9995',\n",
    " 'GRE Score': '337',\n",
    " 'TOEFL Score': '118',\n",
    " 'University Rating': '4',\n",
    " 'SOP': '4.5',\n",
    " 'LOR': '4.5',\n",
    " 'CGPA': '9.5',\n",
    " 'Research': '1',\n",
    " 'Chance of Admit': '0.92'},\n",
    "  {\n",
    "    'Serial No': '9994',\n",
    " 'GRE Score': '334',\n",
    " 'TOEFL Score': '119',\n",
    " 'University Rating': '4',\n",
    " 'SOP': '4.5',\n",
    " 'LOR': '4.5',\n",
    " 'CGPA': '9.4',\n",
    " 'Research': '1',\n",
    " 'Chance of Admit': '0.92'},\n",
    "  {\n",
    "    'Serial No': '9993',\n",
    " 'GRE Score': '337',\n",
    " 'TOEFL Score': '118',\n",
    " 'University Rating': '4',\n",
    " 'SOP': '4.5',\n",
    " 'LOR': '4.5',\n",
    " 'CGPA': '9.65',\n",
    " 'Research': '1',\n",
    " 'Chance of Admit': '0.92'}\n",
    "\n",
    "]# creating key value pairs for inserting into the DB\n"
   ]
  },
  {
   "cell_type": "code",
   "execution_count": 36,
   "metadata": {},
   "outputs": [],
   "source": [
    "x = collection.insert_many(my_rows) #Inserting multiple records into the collection"
   ]
  },
  {
   "cell_type": "code",
   "execution_count": 39,
   "metadata": {},
   "outputs": [
    {
     "data": {
      "text/plain": [
       "[ObjectId('5ead5c164c49558dd5a295e6'),\n",
       " ObjectId('5ead5c164c49558dd5a295e7'),\n",
       " ObjectId('5ead5c164c49558dd5a295e8'),\n",
       " ObjectId('5ead5c164c49558dd5a295e9'),\n",
       " ObjectId('5ead5c164c49558dd5a295ea')]"
      ]
     },
     "execution_count": 39,
     "metadata": {},
     "output_type": "execute_result"
    }
   ],
   "source": [
    "x.inserted_ids #Unique id's of the inserted records"
   ]
  },
  {
   "cell_type": "markdown",
   "metadata": {},
   "source": [
    "## Retrieving the records from the Database"
   ]
  },
  {
   "cell_type": "code",
   "execution_count": 41,
   "metadata": {},
   "outputs": [
    {
     "data": {
      "text/plain": [
       "{'_id': ObjectId('5ead33ff7ff3f30f081208ad'),\n",
       " 'Serial No': '11',\n",
       " 'GRE Score': '325',\n",
       " 'TOEFL Score': '106',\n",
       " 'University Rating': '3',\n",
       " 'SOP': '3.5',\n",
       " 'LOR': '4',\n",
       " 'CGPA': '8.4',\n",
       " 'Research': '1',\n",
       " 'Chance of Admit': '0.52'}"
      ]
     },
     "execution_count": 41,
     "metadata": {},
     "output_type": "execute_result"
    }
   ],
   "source": [
    "#Retrieving all the records from the collection\n",
    "result = collection.find({})\n",
    "result[10] #Retrieving the 11th record in terms of index value"
   ]
  },
  {
   "cell_type": "markdown",
   "metadata": {},
   "source": [
    "whenever we are calling the find() method, if we have too many rows/records in the table, then we'll get too many responses for that which might overwhelm the application. To overcome this scenario, we have a way in mongoDB to have an upper limit on the number of rows returned.\n",
    "\n",
    "It is called the <b>limit()</b> method."
   ]
  },
  {
   "cell_type": "code",
   "execution_count": 43,
   "metadata": {},
   "outputs": [
    {
     "name": "stdout",
     "output_type": "stream",
     "text": [
      "{'_id': ObjectId('5ead33ff7ff3f30f081208a3'), 'Serial No': '1', 'GRE Score': '337', 'TOEFL Score': '118', 'University Rating': '4', 'SOP': '4.5', 'LOR': '4.5', 'CGPA': '9.65', 'Research': '1', 'Chance of Admit': '0.92'}\n",
      "{'_id': ObjectId('5ead33ff7ff3f30f081208a4'), 'Serial No': '2', 'GRE Score': '324', 'TOEFL Score': '107', 'University Rating': '4', 'SOP': '4', 'LOR': '4.5', 'CGPA': '8.87', 'Research': '1', 'Chance of Admit': '0.76'}\n",
      "{'_id': ObjectId('5ead33ff7ff3f30f081208a5'), 'Serial No': '3', 'GRE Score': '', 'TOEFL Score': '104', 'University Rating': '3', 'SOP': '3', 'LOR': '3.5', 'CGPA': '8', 'Research': '1', 'Chance of Admit': '0.72'}\n",
      "{'_id': ObjectId('5ead33ff7ff3f30f081208a6'), 'Serial No': '4', 'GRE Score': '322', 'TOEFL Score': '110', 'University Rating': '3', 'SOP': '3.5', 'LOR': '2.5', 'CGPA': '8.67', 'Research': '1', 'Chance of Admit': '0.8'}\n",
      "{'_id': ObjectId('5ead33ff7ff3f30f081208a7'), 'Serial No': '5', 'GRE Score': '314', 'TOEFL Score': '103', 'University Rating': '2', 'SOP': '2', 'LOR': '3', 'CGPA': '8.21', 'Research': '0', 'Chance of Admit': '0.65'}\n"
     ]
    }
   ],
   "source": [
    "#Retrieving with some upper limit\n",
    "result = collection.find({}).limit(5)\n",
    "for res in result:\n",
    "    print(res)"
   ]
  },
  {
   "cell_type": "code",
   "execution_count": 45,
   "metadata": {},
   "outputs": [
    {
     "name": "stdout",
     "output_type": "stream",
     "text": [
      "{'_id': ObjectId('5ead33ff7ff3f30f081208a3'), 'GRE Score': '337', 'TOEFL Score': '118'}\n",
      "{'_id': ObjectId('5ead33ff7ff3f30f081208a4'), 'GRE Score': '324', 'TOEFL Score': '107'}\n",
      "{'_id': ObjectId('5ead33ff7ff3f30f081208a5'), 'GRE Score': '', 'TOEFL Score': '104'}\n",
      "{'_id': ObjectId('5ead33ff7ff3f30f081208a6'), 'GRE Score': '322', 'TOEFL Score': '110'}\n",
      "{'_id': ObjectId('5ead33ff7ff3f30f081208a7'), 'GRE Score': '314', 'TOEFL Score': '103'}\n"
     ]
    }
   ],
   "source": [
    "#Retrieving the records based on column limitation\n",
    "result = collection.find({},{'GRE Score','TOEFL Score'}).limit(5)\n",
    "for res in result:\n",
    "    print(res)"
   ]
  },
  {
   "cell_type": "code",
   "execution_count": 48,
   "metadata": {},
   "outputs": [
    {
     "name": "stdout",
     "output_type": "stream",
     "text": [
      "{'_id': ObjectId('5ead33ff7ff3f30f081208b0'), 'Serial No': '14', 'GRE Score': '307', 'TOEFL Score': '109', 'University Rating': '3', 'SOP': '4', 'LOR': '3', 'CGPA': '8', 'Research': '1', 'Chance of Admit': '0.62'}\n",
      "{'_id': ObjectId('5ead33ff7ff3f30f081208ca'), 'Serial No': '40', 'GRE Score': '307', 'TOEFL Score': '108', 'University Rating': '2', 'SOP': '4', 'LOR': '3.5', 'CGPA': '7.7', 'Research': '0', 'Chance of Admit': '0.48'}\n",
      "{'_id': ObjectId('5ead33ff7ff3f30f081208e0'), 'Serial No': '62', 'GRE Score': '307', 'TOEFL Score': '101', 'University Rating': '3', 'SOP': '4', 'LOR': '3', 'CGPA': '8.2', 'Research': '0', 'Chance of Admit': '0.47'}\n",
      "{'_id': ObjectId('5ead33ff7ff3f30f08120956'), 'Serial No': '180', 'GRE Score': '307', 'TOEFL Score': '102', 'University Rating': '3', 'SOP': '3', 'LOR': '3', 'CGPA': '8.27', 'Research': '0', 'Chance of Admit': '0.73'}\n",
      "{'_id': ObjectId('5ead33ff7ff3f30f08120966'), 'Serial No': '196', 'GRE Score': '307', 'TOEFL Score': '107', 'University Rating': '2', 'SOP': '3', 'LOR': '3.5', 'CGPA': '8.52', 'Research': '1', 'Chance of Admit': '0.78'}\n",
      "{'_id': ObjectId('5ead33ff7ff3f30f081209a2'), 'Serial No': '256', 'GRE Score': '307', 'TOEFL Score': '110', 'University Rating': '4', 'SOP': '4', 'LOR': '4.5', 'CGPA': '8.37', 'Research': '0', 'Chance of Admit': '0.79'}\n",
      "{'_id': ObjectId('5ead33ff7ff3f30f081209c5'), 'Serial No': '291', 'GRE Score': '307', 'TOEFL Score': '105', 'University Rating': '2', 'SOP': '2.5', 'LOR': '3', 'CGPA': '7.65', 'Research': '0', 'Chance of Admit': '0.58'}\n",
      "{'_id': ObjectId('5ead34007ff3f30f08120a26'), 'Serial No': '388', 'GRE Score': '307', 'TOEFL Score': '105', 'University Rating': '2', 'SOP': '2', 'LOR': '3.5', 'CGPA': '8.1', 'Research': '0', 'Chance of Admit': '0.53'}\n",
      "{'_id': ObjectId('5ead34007ff3f30f08120a71'), 'Serial No': '463', 'GRE Score': '307', 'TOEFL Score': '105', 'University Rating': '4', 'SOP': '3', 'LOR': '3', 'CGPA': '7.94', 'Research': '0', 'Chance of Admit': '0.62'}\n",
      "{'_id': ObjectId('5ead34007ff3f30f08120a8d'), 'Serial No': '491', 'GRE Score': '307', 'TOEFL Score': '105', 'University Rating': '2', 'SOP': '2.5', 'LOR': '4.5', 'CGPA': '8.12', 'Research': '1', 'Chance of Admit': '0.67'}\n",
      "{'_id': ObjectId('5ead59824c49558dd5a295e5'), 'Serial No': '21', 'GRE Score': '307', 'TOEFL Score': '108', 'University Rating': '4', 'SOP': '4.5', 'LOR': '4.5', 'CGPA': '9.60', 'Research': '1', 'Chance of Admit': '0.92'}\n"
     ]
    }
   ],
   "source": [
    "#Retrieving the records based on conditions\n",
    "my_db_query={'GRE Score':'307'}\n",
    "result = collection.find(my_db_query)\n",
    "for res in result:\n",
    "    print(res)"
   ]
  },
  {
   "cell_type": "code",
   "execution_count": 51,
   "metadata": {},
   "outputs": [
    {
     "name": "stdout",
     "output_type": "stream",
     "text": [
      "{'_id': ObjectId('5ead33ff7ff3f30f081208bc'), 'GRE Score': '340', 'SOP': '4.5'}\n",
      "{'_id': ObjectId('5ead33ff7ff3f30f081208c3'), 'GRE Score': '338', 'SOP': '3'}\n",
      "{'_id': ObjectId('5ead33ff7ff3f30f081208c4'), 'GRE Score': '340', 'SOP': '4'}\n",
      "{'_id': ObjectId('5ead33ff7ff3f30f081208d2'), 'GRE Score': '339', 'SOP': '4.5'}\n",
      "{'_id': ObjectId('5ead33ff7ff3f30f081208f4'), 'GRE Score': '340', 'SOP': '5'}\n",
      "{'_id': ObjectId('5ead33ff7ff3f30f081208f7'), 'GRE Score': '340', 'SOP': '4.5'}\n",
      "{'_id': ObjectId('5ead33ff7ff3f30f0812090e'), 'GRE Score': '338', 'SOP': '3.5'}\n",
      "{'_id': ObjectId('5ead33ff7ff3f30f08120925'), 'GRE Score': '339', 'SOP': '4'}\n",
      "{'_id': ObjectId('5ead33ff7ff3f30f08120932'), 'GRE Score': '340', 'SOP': '4.5'}\n",
      "{'_id': ObjectId('5ead33ff7ff3f30f08120937'), 'GRE Score': '339', 'SOP': '4'}\n",
      "{'_id': ObjectId('5ead33ff7ff3f30f0812096d'), 'GRE Score': '340', 'SOP': '4.5'}\n",
      "{'_id': ObjectId('5ead33ff7ff3f30f08120977'), 'GRE Score': '338', 'SOP': '5'}\n",
      "{'_id': ObjectId('5ead33ff7ff3f30f081209bf'), 'GRE Score': '340', 'SOP': '5'}\n",
      "{'_id': ObjectId('5ead34007ff3f30f08120a0d'), 'GRE Score': '338', 'SOP': '4.5'}\n",
      "{'_id': ObjectId('5ead34007ff3f30f08120a23'), 'GRE Score': '340', 'SOP': '5'}\n",
      "{'_id': ObjectId('5ead34007ff3f30f08120a50'), 'GRE Score': '340', 'SOP': '5'}\n"
     ]
    }
   ],
   "source": [
    "my_db_query = {'GRE Score':{'$gt':'337'}} #retrieving the records inwhich the GRE score is greater than 337\n",
    "result_GRE = collection.find(my_db_query,{'GRE Score','SOP'}) #Retrieving few columns based on their names\n",
    "for res in result_GRE:\n",
    "    print(res)"
   ]
  },
  {
   "cell_type": "code",
   "execution_count": 53,
   "metadata": {},
   "outputs": [
    {
     "name": "stdout",
     "output_type": "stream",
     "text": [
      "{'_id': ObjectId('5ead33ff7ff3f30f081208c3'), 'GRE Score': '338', 'SOP': '3'}\n",
      "{'_id': ObjectId('5ead33ff7ff3f30f0812090e'), 'GRE Score': '338', 'SOP': '3.5'}\n",
      "{'_id': ObjectId('5ead33ff7ff3f30f08120977'), 'GRE Score': '338', 'SOP': '5'}\n",
      "{'_id': ObjectId('5ead34007ff3f30f08120a0d'), 'GRE Score': '338', 'SOP': '4.5'}\n",
      "{'_id': ObjectId('5ead33ff7ff3f30f081208d2'), 'GRE Score': '339', 'SOP': '4.5'}\n",
      "{'_id': ObjectId('5ead33ff7ff3f30f08120925'), 'GRE Score': '339', 'SOP': '4'}\n",
      "{'_id': ObjectId('5ead33ff7ff3f30f08120937'), 'GRE Score': '339', 'SOP': '4'}\n",
      "{'_id': ObjectId('5ead33ff7ff3f30f081208bc'), 'GRE Score': '340', 'SOP': '4.5'}\n",
      "{'_id': ObjectId('5ead33ff7ff3f30f081208c4'), 'GRE Score': '340', 'SOP': '4'}\n",
      "{'_id': ObjectId('5ead33ff7ff3f30f081208f4'), 'GRE Score': '340', 'SOP': '5'}\n",
      "{'_id': ObjectId('5ead33ff7ff3f30f081208f7'), 'GRE Score': '340', 'SOP': '4.5'}\n",
      "{'_id': ObjectId('5ead33ff7ff3f30f08120932'), 'GRE Score': '340', 'SOP': '4.5'}\n",
      "{'_id': ObjectId('5ead33ff7ff3f30f0812096d'), 'GRE Score': '340', 'SOP': '4.5'}\n",
      "{'_id': ObjectId('5ead33ff7ff3f30f081209bf'), 'GRE Score': '340', 'SOP': '5'}\n",
      "{'_id': ObjectId('5ead34007ff3f30f08120a23'), 'GRE Score': '340', 'SOP': '5'}\n",
      "{'_id': ObjectId('5ead34007ff3f30f08120a50'), 'GRE Score': '340', 'SOP': '5'}\n"
     ]
    }
   ],
   "source": [
    "#Sorting of the records based on one column\n",
    "result_GRE = collection.find(my_db_query,{'GRE Score','SOP'}).sort('GRE Score')\n",
    "for res in result_GRE:\n",
    "    print(res)"
   ]
  },
  {
   "cell_type": "code",
   "execution_count": 54,
   "metadata": {},
   "outputs": [
    {
     "name": "stdout",
     "output_type": "stream",
     "text": [
      "{'_id': ObjectId('5ead33ff7ff3f30f081208bc'), 'GRE Score': '340', 'SOP': '4.5'}\n",
      "{'_id': ObjectId('5ead33ff7ff3f30f081208c4'), 'GRE Score': '340', 'SOP': '4'}\n",
      "{'_id': ObjectId('5ead33ff7ff3f30f081208f4'), 'GRE Score': '340', 'SOP': '5'}\n",
      "{'_id': ObjectId('5ead33ff7ff3f30f081208f7'), 'GRE Score': '340', 'SOP': '4.5'}\n",
      "{'_id': ObjectId('5ead33ff7ff3f30f08120932'), 'GRE Score': '340', 'SOP': '4.5'}\n",
      "{'_id': ObjectId('5ead33ff7ff3f30f0812096d'), 'GRE Score': '340', 'SOP': '4.5'}\n",
      "{'_id': ObjectId('5ead33ff7ff3f30f081209bf'), 'GRE Score': '340', 'SOP': '5'}\n",
      "{'_id': ObjectId('5ead34007ff3f30f08120a23'), 'GRE Score': '340', 'SOP': '5'}\n",
      "{'_id': ObjectId('5ead34007ff3f30f08120a50'), 'GRE Score': '340', 'SOP': '5'}\n",
      "{'_id': ObjectId('5ead33ff7ff3f30f081208d2'), 'GRE Score': '339', 'SOP': '4.5'}\n",
      "{'_id': ObjectId('5ead33ff7ff3f30f08120925'), 'GRE Score': '339', 'SOP': '4'}\n",
      "{'_id': ObjectId('5ead33ff7ff3f30f08120937'), 'GRE Score': '339', 'SOP': '4'}\n",
      "{'_id': ObjectId('5ead33ff7ff3f30f081208c3'), 'GRE Score': '338', 'SOP': '3'}\n",
      "{'_id': ObjectId('5ead33ff7ff3f30f0812090e'), 'GRE Score': '338', 'SOP': '3.5'}\n",
      "{'_id': ObjectId('5ead33ff7ff3f30f08120977'), 'GRE Score': '338', 'SOP': '5'}\n",
      "{'_id': ObjectId('5ead34007ff3f30f08120a0d'), 'GRE Score': '338', 'SOP': '4.5'}\n"
     ]
    }
   ],
   "source": [
    "#Sorting in descending order\n",
    "result_GRE = collection.find(my_db_query,{'GRE Score','SOP'}).sort('GRE Score',-1)\n",
    "for res in result_GRE:\n",
    "    print(res)"
   ]
  },
  {
   "cell_type": "markdown",
   "metadata": {},
   "source": [
    "## Deleting the records from the database"
   ]
  },
  {
   "cell_type": "code",
   "execution_count": 56,
   "metadata": {},
   "outputs": [
    {
     "name": "stdout",
     "output_type": "stream",
     "text": [
      "1\n"
     ]
    }
   ],
   "source": [
    "my_db_query={'GRE Score':'307'}\n",
    "x=collection.delete_one(my_db_query) #Deleting a single record\n",
    "print(x.deleted_count)"
   ]
  },
  {
   "cell_type": "markdown",
   "metadata": {},
   "source": [
    "We have succesfully deleted one row/record from the collection.\n",
    "\n",
    "Similarly, for deleting multiple rows, we can use <b>collection.delete_many(my_deb_query)</b>\n",
    "\n",
    "For deleting all documents of a collection, we can use <b>collection.delete_many({})</b>"
   ]
  },
  {
   "cell_type": "code",
   "execution_count": 59,
   "metadata": {},
   "outputs": [
    {
     "name": "stdout",
     "output_type": "stream",
     "text": [
      "15\n"
     ]
    }
   ],
   "source": [
    "x = collection.delete_many({'GRE Score':'317'}) #Deleting multiple records\n",
    "print(x.deleted_count)"
   ]
  },
  {
   "cell_type": "markdown",
   "metadata": {},
   "source": [
    "## Drop the records"
   ]
  },
  {
   "cell_type": "code",
   "execution_count": 60,
   "metadata": {},
   "outputs": [],
   "source": [
    "#For dropping the entire collection in the database\n",
    "collection_to_drop = db['mongo_demo'] #Drops the entire collection names mongo_demo\n",
    "collection_to_drop.drop()"
   ]
  },
  {
   "cell_type": "markdown",
   "metadata": {},
   "source": [
    "## Updating the records"
   ]
  },
  {
   "cell_type": "code",
   "execution_count": 62,
   "metadata": {},
   "outputs": [
    {
     "name": "stdout",
     "output_type": "stream",
     "text": [
      "5\n"
     ]
    }
   ],
   "source": [
    "#Updating the values present in the collection\n",
    "update_criteria = {'GRE Score':'337'}\n",
    "new_values = {'$set':{'GRE Score':'340'}}\n",
    "x = collection.update_many(update_criteria,new_values)\n",
    "print(x.modified_count)"
   ]
  },
  {
   "cell_type": "markdown",
   "metadata": {},
   "source": [
    "We have updated the nine columns with GRE Score 340 with GRE Score 350.\n",
    "\n",
    "Similarly, we can update only one row by using the function <b>update_one(update_criteria, new_values)</b>"
   ]
  }
 ],
 "metadata": {
  "kernelspec": {
   "display_name": "Python 3",
   "language": "python",
   "name": "python3"
  },
  "language_info": {
   "codemirror_mode": {
    "name": "ipython",
    "version": 3
   },
   "file_extension": ".py",
   "mimetype": "text/x-python",
   "name": "python",
   "nbconvert_exporter": "python",
   "pygments_lexer": "ipython3",
   "version": "3.7.6"
  }
 },
 "nbformat": 4,
 "nbformat_minor": 4
}
